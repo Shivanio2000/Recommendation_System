{
 "cells": [
  {
   "cell_type": "code",
   "execution_count": 1,
   "id": "5a9fc628-e20a-4a4f-82a8-6b851474e513",
   "metadata": {},
   "outputs": [
    {
     "name": "stdout",
     "output_type": "stream",
     "text": [
      "Defaulting to user installation because normal site-packages is not writeable\n",
      "Looking in links: /usr/share/pip-wheels\n",
      "Requirement already satisfied: scikit-surprise in ./.local/lib/python3.10/site-packages (1.1.4)\n",
      "Requirement already satisfied: joblib>=1.2.0 in /opt/conda/envs/anaconda-2024.02-py310/lib/python3.10/site-packages (from scikit-surprise) (1.2.0)\n",
      "Requirement already satisfied: numpy>=1.19.5 in /opt/conda/envs/anaconda-2024.02-py310/lib/python3.10/site-packages (from scikit-surprise) (1.26.4)\n",
      "Requirement already satisfied: scipy>=1.6.0 in /opt/conda/envs/anaconda-2024.02-py310/lib/python3.10/site-packages (from scikit-surprise) (1.12.0)\n"
     ]
    }
   ],
   "source": [
    "!pip install scikit-surprise"
   ]
  },
  {
   "cell_type": "code",
   "execution_count": 2,
   "id": "0bac1ed5-fadd-4e3e-a5b7-98ced0b7b704",
   "metadata": {},
   "outputs": [],
   "source": [
    "import pandas as pd\n",
    "from surprise import Dataset, Reader, SVD, accuracy\n",
    "from surprise.model_selection import train_test_split\n",
    "import matplotlib.pyplot as plt\n"
   ]
  },
  {
   "cell_type": "code",
   "execution_count": 3,
   "id": "698f18dc-5b30-4cf9-94d5-dc6825fb70de",
   "metadata": {},
   "outputs": [
    {
     "name": "stdout",
     "output_type": "stream",
     "text": [
      "   userID  itemID  rating\n",
      "0       1     101       5\n",
      "1       1     102       3\n",
      "2       2     101       4\n",
      "3       2     103       2\n",
      "4       3     102       4\n",
      "5       3     103       5\n"
     ]
    }
   ],
   "source": [
    "# Sample ratings data\n",
    "ratings_dict = {\n",
    "    \"userID\": [1, 1, 2, 2, 3, 3],\n",
    "    \"itemID\": [101, 102, 101, 103, 102, 103],\n",
    "    \"rating\": [5, 3, 4, 2, 4, 5]\n",
    "}\n",
    "\n",
    "df = pd.DataFrame(ratings_dict)\n",
    "print(df)\n"
   ]
  },
  {
   "cell_type": "code",
   "execution_count": 4,
   "id": "57d3d8a4-c3d6-4b66-a89a-988be1b9a2b7",
   "metadata": {},
   "outputs": [],
   "source": [
    "reader = Reader(rating_scale=(1, 5))\n",
    "data = Dataset.load_from_df(df[['userID', 'itemID', 'rating']], reader)\n"
   ]
  },
  {
   "cell_type": "code",
   "execution_count": 5,
   "id": "675b686e-581c-4307-99e9-9b143163c28b",
   "metadata": {},
   "outputs": [],
   "source": [
    "trainset, testset = train_test_split(data, test_size=0.25)\n"
   ]
  },
  {
   "cell_type": "code",
   "execution_count": 6,
   "id": "62ca9580-503b-447f-a13b-3fa82be78bbb",
   "metadata": {},
   "outputs": [],
   "source": [
    "algo = SVD()\n",
    "algo.fit(trainset)\n",
    "predictions = algo.test(testset)\n"
   ]
  },
  {
   "cell_type": "code",
   "execution_count": 7,
   "id": "e92b17f1-a529-44dd-88bf-d07dab0b498e",
   "metadata": {},
   "outputs": [
    {
     "name": "stdout",
     "output_type": "stream",
     "text": [
      "RMSE: 1.0160\n",
      "MAE:  0.9905\n"
     ]
    }
   ],
   "source": [
    "rmse = accuracy.rmse(predictions)\n",
    "mae = accuracy.mae(predictions)\n"
   ]
  },
  {
   "cell_type": "code",
   "execution_count": 8,
   "id": "16025e5c-05cb-4571-a7b5-08c05f7bf976",
   "metadata": {},
   "outputs": [
    {
     "data": {
      "image/png": "[encoded data removed]",
      "text/plain": [
       "<Figure size 640x480 with 1 Axes>"
      ]
     },
     "metadata": {},
     "output_type": "display_data"
    }
   ],
   "source": [
    "plt.bar(['RMSE', 'MAE'], [rmse, mae], color=['skyblue', 'lightgreen'])\n",
    "plt.title(\"Model Evaluation Metrics\")\n",
    "plt.ylabel(\"Score\")\n",
    "plt.show()\n"
   ]
  },
  {
   "cell_type": "code",
   "execution_count": null,
   "id": "c740998a-f689-4a8f-9f59-ba0b59d89dba",
   "metadata": {},
   "outputs": [],
   "source": []
  }
 ],
 "metadata": {
  "kernelspec": {
   "display_name": "anaconda-2024.02-py310",
   "language": "python",
   "name": "conda-env-anaconda-2024.02-py310-py"
  },
  "language_info": {
   "codemirror_mode": {
    "name": "ipython",
    "version": 3
   },
   "file_extension": ".py",
   "mimetype": "text/x-python",
   "name": "python",
   "nbconvert_exporter": "python",
   "pygments_lexer": "ipython3",
   "version": "3.10.14"
  }
 },
 "nbformat": 4,
 "nbformat_minor": 5
}
